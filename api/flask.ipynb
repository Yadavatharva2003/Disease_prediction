{
 "cells": [
  {
   "cell_type": "code",
   "execution_count": null,
   "id": "31833533",
   "metadata": {},
   "outputs": [
    {
     "name": "stdout",
     "output_type": "stream",
     "text": [
      " * Serving Flask app '__main__'\n",
      " * Debug mode: off\n"
     ]
    },
    {
     "name": "stderr",
     "output_type": "stream",
     "text": [
      "WARNING: This is a development server. Do not use it in a production deployment. Use a production WSGI server instead.\n",
      " * Running on http://127.0.0.1:5000\n",
      "Press CTRL+C to quit\n"
     ]
    }
   ],
   "source": [
    "from flask import Flask, request\n",
    "import pandas as pd\n",
    "import tensorflow as tf\n",
    "from sklearn.preprocessing import LabelEncoder\n",
    "from tensorflow.keras.models import load_model\n",
    "\n",
    "app = Flask(__name__)\n",
    "\n",
    "# Load the first model for multi-class classification\n",
    "model = load_model(\"first_model.h5\")\n",
    "\n",
    "# Load the second model for binary classification\n",
    "model1 = load_model(\"second_model.h5\")\n",
    "\n",
    "# Define label encoders for decoding predictions\n",
    "label_encoder_multi = LabelEncoder()\n",
    "label_encoder_binary = LabelEncoder()\n",
    "\n",
    "# Define routes for making predictions\n",
    "@app.route('/predict_multi_class', methods=['POST'])\n",
    "def predict_multi_class():\n",
    "    data = request.json\n",
    "    prediction = model.predict(pd.DataFrame(data).T)\n",
    "    decoded_prediction = label_encoder_multi.inverse_transform(prediction.argmax(axis=1))\n",
    "    return jsonify({'prediction': decoded_prediction.tolist()})\n",
    "\n",
    "@app.route('/predict_binary_class', methods=['POST'])\n",
    "def predict_binary_class():\n",
    "    data = request.json\n",
    "    prediction = model1.predict(pd.DataFrame(data).T)\n",
    "    decoded_prediction = label_encoder_binary.inverse_transform(prediction.round().astype(int))\n",
    "    return jsonify({'prediction': decoded_prediction.tolist()})\n",
    "\n",
    "if __name__ == '__main__':\n",
    "    app.run()\n"
   ]
  },
  {
   "cell_type": "code",
   "execution_count": null,
   "id": "fff8c3a2",
   "metadata": {},
   "outputs": [],
   "source": []
  }
 ],
 "metadata": {
  "kernelspec": {
   "display_name": "Python 3",
   "language": "python",
   "name": "python3"
  },
  "language_info": {
   "codemirror_mode": {
    "name": "ipython",
    "version": 3
   },
   "file_extension": ".py",
   "mimetype": "text/x-python",
   "name": "python",
   "nbconvert_exporter": "python",
   "pygments_lexer": "ipython3",
   "version": "3.7.6"
  }
 },
 "nbformat": 4,
 "nbformat_minor": 5
}
