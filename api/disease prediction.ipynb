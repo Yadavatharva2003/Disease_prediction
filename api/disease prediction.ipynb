{
 "cells": [
  {
   "cell_type": "code",
   "execution_count": 2,
   "id": "53aa6d22",
   "metadata": {},
   "outputs": [],
   "source": [
    "import pandas as pd\n",
    "import tensorflow as tf\n",
    "from sklearn.model_selection import train_test_split\n",
    "from tensorflow.keras.models import Sequential\n",
    "from tensorflow.keras.layers import Dense\n",
    "from sklearn.preprocessing import LabelEncoder\n",
    "from sklearn.model_selection import train_test_split\n"
   ]
  },
  {
   "cell_type": "code",
   "execution_count": 3,
   "id": "6a079e55",
   "metadata": {},
   "outputs": [],
   "source": [
    "df=pd.read_csv('Training.csv').drop('Unnamed: 133',axis=1)\n",
    "df1=pd.read_csv('Testing.csv').dropna()\n",
    "\n"
   ]
  },
  {
   "cell_type": "code",
   "execution_count": 4,
   "id": "64774b14",
   "metadata": {},
   "outputs": [],
   "source": [
    "x_train=df.drop('prognosis',axis=1)\n",
    "y_train=df['prognosis']\n",
    "x_test=df1.drop('prognosis',axis=1)\n",
    "y_test=df1['prognosis']\n",
    "le = LabelEncoder()\n",
    "y_train= le.fit_transform(y_train)\n",
    "y_test=le.fit_transform(y_test)"
   ]
  },
  {
   "cell_type": "code",
   "execution_count": 5,
   "id": "df7d2b1f",
   "metadata": {},
   "outputs": [],
   "source": [
    "model = Sequential()\n",
    "model.add(Dense(units=128, activation=\"relu\", input_shape=(x_train.shape[1],)))  # First hidden layer\n",
    "model.add(Dense(units=64, activation=\"relu\"))  # Second hidden layer\n",
    "model.add(Dense(units=len(df[\"prognosis\"].unique()), activation=\"softmax\"))  # Output layer with softmax for multi-class classification\n",
    "\n",
    "model.compile(loss=\"sparse_categorical_crossentropy\", optimizer=\"adam\", metrics=[\"accuracy\"])"
   ]
  },
  {
   "cell_type": "code",
   "execution_count": 6,
   "id": "113aa87c",
   "metadata": {},
   "outputs": [
    {
     "name": "stdout",
     "output_type": "stream",
     "text": [
      "Epoch 1/20\n",
      "154/154 [==============================] - 2s 6ms/step - loss: 1.6104 - accuracy: 0.8285 - val_loss: 0.0868 - val_accuracy: 1.0000\n",
      "Epoch 2/20\n",
      "154/154 [==============================] - 1s 3ms/step - loss: 0.0388 - accuracy: 1.0000 - val_loss: 0.0304 - val_accuracy: 1.0000\n",
      "Epoch 3/20\n",
      "154/154 [==============================] - 1s 3ms/step - loss: 0.0097 - accuracy: 1.0000 - val_loss: 0.0275 - val_accuracy: 0.9762\n",
      "Epoch 4/20\n",
      "154/154 [==============================] - 1s 3ms/step - loss: 0.0047 - accuracy: 1.0000 - val_loss: 0.0272 - val_accuracy: 0.9762\n",
      "Epoch 5/20\n",
      "154/154 [==============================] - 1s 3ms/step - loss: 0.0028 - accuracy: 1.0000 - val_loss: 0.0285 - val_accuracy: 0.9762\n",
      "Epoch 6/20\n",
      "154/154 [==============================] - 1s 3ms/step - loss: 0.0018 - accuracy: 1.0000 - val_loss: 0.0299 - val_accuracy: 0.9762\n",
      "Epoch 7/20\n",
      "154/154 [==============================] - 1s 3ms/step - loss: 0.0013 - accuracy: 1.0000 - val_loss: 0.0310 - val_accuracy: 0.9762\n",
      "Epoch 8/20\n",
      "154/154 [==============================] - 1s 3ms/step - loss: 9.6773e-04 - accuracy: 1.0000 - val_loss: 0.0323 - val_accuracy: 0.9762\n",
      "Epoch 9/20\n",
      "154/154 [==============================] - 1s 3ms/step - loss: 7.4099e-04 - accuracy: 1.0000 - val_loss: 0.0336 - val_accuracy: 0.9762\n",
      "Epoch 10/20\n",
      "154/154 [==============================] - 1s 3ms/step - loss: 5.8437e-04 - accuracy: 1.0000 - val_loss: 0.0342 - val_accuracy: 0.9762\n",
      "Epoch 11/20\n",
      "154/154 [==============================] - 1s 3ms/step - loss: 4.7103e-04 - accuracy: 1.0000 - val_loss: 0.0364 - val_accuracy: 0.9762\n",
      "Epoch 12/20\n",
      "154/154 [==============================] - 1s 3ms/step - loss: 3.8532e-04 - accuracy: 1.0000 - val_loss: 0.0387 - val_accuracy: 0.9762\n",
      "Epoch 13/20\n",
      "154/154 [==============================] - 1s 3ms/step - loss: 3.2194e-04 - accuracy: 1.0000 - val_loss: 0.0389 - val_accuracy: 0.9762\n",
      "Epoch 14/20\n",
      "154/154 [==============================] - 1s 3ms/step - loss: 2.7056e-04 - accuracy: 1.0000 - val_loss: 0.0398 - val_accuracy: 0.9762\n",
      "Epoch 15/20\n",
      "154/154 [==============================] - 1s 3ms/step - loss: 2.2958e-04 - accuracy: 1.0000 - val_loss: 0.0407 - val_accuracy: 0.9762\n",
      "Epoch 16/20\n",
      "154/154 [==============================] - 0s 3ms/step - loss: 1.9697e-04 - accuracy: 1.0000 - val_loss: 0.0430 - val_accuracy: 0.9762\n",
      "Epoch 17/20\n",
      "154/154 [==============================] - 0s 3ms/step - loss: 1.6981e-04 - accuracy: 1.0000 - val_loss: 0.0442 - val_accuracy: 0.9762\n",
      "Epoch 18/20\n",
      "154/154 [==============================] - 1s 3ms/step - loss: 1.4692e-04 - accuracy: 1.0000 - val_loss: 0.0455 - val_accuracy: 0.9762\n",
      "Epoch 19/20\n",
      "154/154 [==============================] - 1s 3ms/step - loss: 1.2791e-04 - accuracy: 1.0000 - val_loss: 0.0463 - val_accuracy: 0.9762\n",
      "Epoch 20/20\n",
      "154/154 [==============================] - 1s 3ms/step - loss: 1.1192e-04 - accuracy: 1.0000 - val_loss: 0.0473 - val_accuracy: 0.9762\n"
     ]
    },
    {
     "data": {
      "text/plain": [
       "<keras.callbacks.History at 0x12ea3111808>"
      ]
     },
     "execution_count": 6,
     "metadata": {},
     "output_type": "execute_result"
    }
   ],
   "source": [
    "model.fit(x_train, y_train, epochs=20, batch_size=32, validation_data=(x_test, y_test))  # Adjust hyperparameters as needed"
   ]
  },
  {
   "cell_type": "code",
   "execution_count": 7,
   "id": "863a9c94",
   "metadata": {},
   "outputs": [
    {
     "name": "stdout",
     "output_type": "stream",
     "text": [
      "Testing Loss: 0.0473, Testing Accuracy: 0.9762\n"
     ]
    }
   ],
   "source": [
    "model_loss, model_accuracy = model.evaluate(x_test, y_test, verbose=0)\n",
    "print(f\"Testing Loss: {model_loss:.4f}, Testing Accuracy: {model_accuracy:.4f}\")"
   ]
  },
  {
   "cell_type": "code",
   "execution_count": 8,
   "id": "7e27430f",
   "metadata": {},
   "outputs": [],
   "source": [
    "model.save(\"first_model.h5\")"
   ]
  },
  {
   "cell_type": "markdown",
   "id": "25549a6d",
   "metadata": {},
   "source": [
    "# Human vital sign model"
   ]
  },
  {
   "cell_type": "code",
   "execution_count": 9,
   "id": "a3005d9c",
   "metadata": {},
   "outputs": [
    {
     "data": {
      "text/html": [
       "<div>\n",
       "<style scoped>\n",
       "    .dataframe tbody tr th:only-of-type {\n",
       "        vertical-align: middle;\n",
       "    }\n",
       "\n",
       "    .dataframe tbody tr th {\n",
       "        vertical-align: top;\n",
       "    }\n",
       "\n",
       "    .dataframe thead th {\n",
       "        text-align: right;\n",
       "    }\n",
       "</style>\n",
       "<table border=\"1\" class=\"dataframe\">\n",
       "  <thead>\n",
       "    <tr style=\"text-align: right;\">\n",
       "      <th></th>\n",
       "      <th>Time (s)</th>\n",
       "      <th>HR (BPM)</th>\n",
       "      <th>RESP (BPM)</th>\n",
       "      <th>SpO2 (%)</th>\n",
       "      <th>TEMP (*C)</th>\n",
       "      <th>OUTPUT</th>\n",
       "    </tr>\n",
       "  </thead>\n",
       "  <tbody>\n",
       "    <tr>\n",
       "      <th>0</th>\n",
       "      <td>0</td>\n",
       "      <td>94.0</td>\n",
       "      <td>21.0</td>\n",
       "      <td>97.0</td>\n",
       "      <td>36.2</td>\n",
       "      <td>Normal</td>\n",
       "    </tr>\n",
       "    <tr>\n",
       "      <th>1</th>\n",
       "      <td>1</td>\n",
       "      <td>94.0</td>\n",
       "      <td>25.0</td>\n",
       "      <td>97.0</td>\n",
       "      <td>36.2</td>\n",
       "      <td>Normal</td>\n",
       "    </tr>\n",
       "    <tr>\n",
       "      <th>2</th>\n",
       "      <td>2</td>\n",
       "      <td>101.0</td>\n",
       "      <td>25.0</td>\n",
       "      <td>93.0</td>\n",
       "      <td>38.0</td>\n",
       "      <td>Abnormal</td>\n",
       "    </tr>\n",
       "    <tr>\n",
       "      <th>3</th>\n",
       "      <td>3</td>\n",
       "      <td>55.0</td>\n",
       "      <td>11.0</td>\n",
       "      <td>100.0</td>\n",
       "      <td>35.0</td>\n",
       "      <td>Abnormal</td>\n",
       "    </tr>\n",
       "    <tr>\n",
       "      <th>4</th>\n",
       "      <td>4</td>\n",
       "      <td>93.0</td>\n",
       "      <td>26.0</td>\n",
       "      <td>95.0</td>\n",
       "      <td>37.0</td>\n",
       "      <td>Normal</td>\n",
       "    </tr>\n",
       "  </tbody>\n",
       "</table>\n",
       "</div>"
      ],
      "text/plain": [
       "   Time (s)   HR (BPM)   RESP (BPM)   SpO2 (%)  TEMP (*C)    OUTPUT\n",
       "0         0       94.0         21.0       97.0       36.2    Normal\n",
       "1         1       94.0         25.0       97.0       36.2    Normal\n",
       "2         2      101.0         25.0       93.0       38.0  Abnormal\n",
       "3         3       55.0         11.0      100.0       35.0  Abnormal\n",
       "4         4       93.0         26.0       95.0       37.0    Normal"
      ]
     },
     "execution_count": 9,
     "metadata": {},
     "output_type": "execute_result"
    }
   ],
   "source": [
    "dataframe=pd.read_csv('Human_vital_signs_R.csv').dropna().drop('Unnamed: 0',axis=1)\n",
    "dataframe.head()"
   ]
  },
  {
   "cell_type": "code",
   "execution_count": 10,
   "id": "2535aa40",
   "metadata": {},
   "outputs": [],
   "source": [
    "X=dataframe.drop('OUTPUT',axis=1)\n",
    "Y=dataframe['OUTPUT']\n",
    "X_train, X_test, Y_train, Y_test = train_test_split(X, Y, test_size=0.3, random_state=42)\n",
    "label_encoder = LabelEncoder()\n",
    "Y_train_encoded = label_encoder.fit_transform(Y_train)\n",
    "Y_test_encoded = label_encoder.transform(Y_test)"
   ]
  },
  {
   "cell_type": "code",
   "execution_count": 11,
   "id": "ad32a0f8",
   "metadata": {},
   "outputs": [],
   "source": [
    "model1= Sequential()\n",
    "model1.add(Dense(units=128, activation=\"relu\", input_shape=(X_train.shape[1],)))  # First hidden layer\n",
    "model1.add(Dense(units=64, activation=\"relu\"))  # Second hidden layer\n",
    "model1.add(Dense(units=1, activation=\"sigmoid\"))  # Output layer with sigmoid for binary classification\n",
    "\n",
    "model1.compile(loss=\"binary_crossentropy\", optimizer=\"adam\", metrics=[\"accuracy\"])"
   ]
  },
  {
   "cell_type": "code",
   "execution_count": 12,
   "id": "f739fa6c",
   "metadata": {},
   "outputs": [
    {
     "name": "stdout",
     "output_type": "stream",
     "text": [
      "Epoch 1/20\n",
      "552/552 [==============================] - 3s 4ms/step - loss: 0.3151 - accuracy: 0.9096 - val_loss: 0.1629 - val_accuracy: 0.9243\n",
      "Epoch 2/20\n",
      "552/552 [==============================] - 2s 4ms/step - loss: 0.1255 - accuracy: 0.9504 - val_loss: 0.1318 - val_accuracy: 0.9494\n",
      "Epoch 3/20\n",
      "552/552 [==============================] - 2s 4ms/step - loss: 0.1224 - accuracy: 0.9542 - val_loss: 0.1081 - val_accuracy: 0.9588\n",
      "Epoch 4/20\n",
      "552/552 [==============================] - 2s 4ms/step - loss: 0.1124 - accuracy: 0.9596 - val_loss: 0.0652 - val_accuracy: 0.9778\n",
      "Epoch 5/20\n",
      "552/552 [==============================] - 2s 4ms/step - loss: 0.1303 - accuracy: 0.9530 - val_loss: 0.0654 - val_accuracy: 0.9771\n",
      "Epoch 6/20\n",
      "552/552 [==============================] - 2s 4ms/step - loss: 0.1078 - accuracy: 0.9626 - val_loss: 0.0707 - val_accuracy: 0.9762\n",
      "Epoch 7/20\n",
      "552/552 [==============================] - 2s 4ms/step - loss: 0.1085 - accuracy: 0.9629 - val_loss: 0.0763 - val_accuracy: 0.9737\n",
      "Epoch 8/20\n",
      "552/552 [==============================] - 2s 4ms/step - loss: 0.1024 - accuracy: 0.9632 - val_loss: 0.0655 - val_accuracy: 0.9781\n",
      "Epoch 9/20\n",
      "552/552 [==============================] - 2s 4ms/step - loss: 0.0976 - accuracy: 0.9645 - val_loss: 0.0860 - val_accuracy: 0.9662\n",
      "Epoch 10/20\n",
      "552/552 [==============================] - 2s 4ms/step - loss: 0.0949 - accuracy: 0.9645 - val_loss: 0.0790 - val_accuracy: 0.9726\n",
      "Epoch 11/20\n",
      "552/552 [==============================] - 2s 4ms/step - loss: 0.0926 - accuracy: 0.9658 - val_loss: 0.0708 - val_accuracy: 0.9749\n",
      "Epoch 12/20\n",
      "552/552 [==============================] - 2s 4ms/step - loss: 0.0962 - accuracy: 0.9640 - val_loss: 0.0659 - val_accuracy: 0.9765\n",
      "Epoch 13/20\n",
      "552/552 [==============================] - 2s 4ms/step - loss: 0.0886 - accuracy: 0.9664 - val_loss: 0.0745 - val_accuracy: 0.9733\n",
      "Epoch 14/20\n",
      "552/552 [==============================] - 2s 4ms/step - loss: 0.0921 - accuracy: 0.9665 - val_loss: 0.0910 - val_accuracy: 0.9644\n",
      "Epoch 15/20\n",
      "552/552 [==============================] - 2s 4ms/step - loss: 0.0855 - accuracy: 0.9674 - val_loss: 0.0631 - val_accuracy: 0.9785\n",
      "Epoch 16/20\n",
      "552/552 [==============================] - 2s 4ms/step - loss: 0.0837 - accuracy: 0.9699 - val_loss: 0.0662 - val_accuracy: 0.9773\n",
      "Epoch 17/20\n",
      "552/552 [==============================] - 2s 4ms/step - loss: 0.0841 - accuracy: 0.9670 - val_loss: 0.0701 - val_accuracy: 0.9748\n",
      "Epoch 18/20\n",
      "552/552 [==============================] - 2s 4ms/step - loss: 0.0872 - accuracy: 0.9664 - val_loss: 0.0651 - val_accuracy: 0.9773\n",
      "Epoch 19/20\n",
      "552/552 [==============================] - 2s 4ms/step - loss: 0.0763 - accuracy: 0.9718 - val_loss: 0.0692 - val_accuracy: 0.9769\n",
      "Epoch 20/20\n",
      "552/552 [==============================] - 2s 4ms/step - loss: 0.0777 - accuracy: 0.9708 - val_loss: 0.0674 - val_accuracy: 0.9737\n"
     ]
    },
    {
     "data": {
      "text/plain": [
       "<keras.callbacks.History at 0x12ea5ee1c88>"
      ]
     },
     "execution_count": 12,
     "metadata": {},
     "output_type": "execute_result"
    }
   ],
   "source": [
    "model1.fit(X_train, Y_train_encoded, epochs=20, batch_size=32, validation_data=(X_test, Y_test_encoded))"
   ]
  },
  {
   "cell_type": "code",
   "execution_count": 13,
   "id": "7cb0b399",
   "metadata": {},
   "outputs": [
    {
     "name": "stdout",
     "output_type": "stream",
     "text": [
      "Testing Loss: 0.0674, Testing Accuracy: 0.9737\n"
     ]
    }
   ],
   "source": [
    "model_loss, model_accuracy = model1.evaluate(X_test, Y_test_encoded, verbose=0)\n",
    "print(f\"Testing Loss: {model_loss:.4f}, Testing Accuracy: {model_accuracy:.4f}\")"
   ]
  },
  {
   "cell_type": "code",
   "execution_count": 14,
   "id": "0f55b5b4",
   "metadata": {},
   "outputs": [],
   "source": [
    "model1.save(\"second_model.h5\")"
   ]
  },
  {
   "cell_type": "code",
   "execution_count": null,
   "id": "09fc963d",
   "metadata": {},
   "outputs": [],
   "source": []
  },
  {
   "cell_type": "code",
   "execution_count": null,
   "id": "fc9e558f",
   "metadata": {},
   "outputs": [],
   "source": []
  }
 ],
 "metadata": {
  "kernelspec": {
   "display_name": "Python 3",
   "language": "python",
   "name": "python3"
  },
  "language_info": {
   "codemirror_mode": {
    "name": "ipython",
    "version": 3
   },
   "file_extension": ".py",
   "mimetype": "text/x-python",
   "name": "python",
   "nbconvert_exporter": "python",
   "pygments_lexer": "ipython3",
   "version": "3.7.6"
  }
 },
 "nbformat": 4,
 "nbformat_minor": 5
}
